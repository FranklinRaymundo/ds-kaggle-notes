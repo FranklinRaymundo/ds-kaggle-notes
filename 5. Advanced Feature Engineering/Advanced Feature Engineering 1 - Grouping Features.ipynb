{
 "cells": [
  {
   "cell_type": "code",
   "execution_count": 22,
   "metadata": {},
   "outputs": [],
   "source": [
    "%matplotlib inline\n",
    "import pandas as pd\n",
    "import numpy as np\n",
    "import matplotlib.pyplot as plt\n",
    "pd.set_option('display.width', 500)\n",
    "pd.set_option('display.max_columns', 100)\n",
    "import seaborn as sns\n",
    "sns.set_style(\"whitegrid\")\n",
    "# Bigger font\n",
    "# sns.set_context(\"poster\")\n",
    "sns.set_context(\"talk\")\n",
    "# Figure size\n",
    "from matplotlib.pylab import rcParams\n",
    "rcParams['figure.figsize'] = 10, 4\n",
    "# np.random.seed(123)"
   ]
  },
  {
   "cell_type": "markdown",
   "metadata": {},
   "source": [
    "## 1. Statistics of one feature grouped by another"
   ]
  },
  {
   "cell_type": "code",
   "execution_count": 28,
   "metadata": {},
   "outputs": [],
   "source": [
    "data={'user_id': [4,  4,  4, 4,  4,  4,  4,  4,  4, 4,  4],\n",
    "      'page_id': [6,  6,  6, 6,  6,  6,  6,  6,  6, 7,  7],\n",
    "      'ad_price':[165,34,29,79,290,314,138,107,242,27,413],\n",
    "      'ad_position':['Bottom_right','Bottom_right','Bottom_left',\n",
    "                     'Bottom_left','Bottom_right','Bottom_right',\n",
    "                     'Bottom_right','Bottom_right','Bottom_left',\n",
    "                     'Bottom_left','Bottom_right']\n",
    "     }\n",
    "df = pd.DataFrame(data)"
   ]
  },
  {
   "cell_type": "markdown",
   "metadata": {},
   "source": [
    "LABEL-ENCODING 'ad_position' would treat the datapoints independently.\n",
    "\n",
    "To capture more patterns, one can use these **generated features**:\n",
    "\n",
    "**MIN AND MAX statistics**: An ad will catch more or less attention depending on its price.\n",
    "\n",
    "- Max price per ``['user_id', 'page_id']`` pair\n",
    "- Min price per ``['user_id', 'page_id']`` pair"
   ]
  },
  {
   "cell_type": "code",
   "execution_count": 34,
   "metadata": {
    "scrolled": true
   },
   "outputs": [
    {
     "name": "stderr",
     "output_type": "stream",
     "text": [
      "/Users/rgap/.virtualenvs/rgap-lectures/lib/python3.6/site-packages/pandas/core/groupby/groupby.py:4658: FutureWarning: using a dict with renaming is deprecated and will be removed in a future version\n",
      "  return super(DataFrameGroupBy, self).aggregate(arg, *args, **kwargs)\n"
     ]
    },
    {
     "data": {
      "text/html": [
       "<div>\n",
       "<style scoped>\n",
       "    .dataframe tbody tr th:only-of-type {\n",
       "        vertical-align: middle;\n",
       "    }\n",
       "\n",
       "    .dataframe tbody tr th {\n",
       "        vertical-align: top;\n",
       "    }\n",
       "\n",
       "    .dataframe thead th {\n",
       "        text-align: right;\n",
       "    }\n",
       "</style>\n",
       "<table border=\"1\" class=\"dataframe\">\n",
       "  <thead>\n",
       "    <tr style=\"text-align: right;\">\n",
       "      <th></th>\n",
       "      <th>user_id</th>\n",
       "      <th>page_id</th>\n",
       "      <th>ad_price</th>\n",
       "      <th>ad_position</th>\n",
       "      <th>max_price</th>\n",
       "      <th>min_price</th>\n",
       "    </tr>\n",
       "  </thead>\n",
       "  <tbody>\n",
       "    <tr>\n",
       "      <th>0</th>\n",
       "      <td>4</td>\n",
       "      <td>6</td>\n",
       "      <td>165</td>\n",
       "      <td>Bottom_right</td>\n",
       "      <td>314</td>\n",
       "      <td>29</td>\n",
       "    </tr>\n",
       "    <tr>\n",
       "      <th>1</th>\n",
       "      <td>4</td>\n",
       "      <td>6</td>\n",
       "      <td>34</td>\n",
       "      <td>Bottom_right</td>\n",
       "      <td>314</td>\n",
       "      <td>29</td>\n",
       "    </tr>\n",
       "    <tr>\n",
       "      <th>2</th>\n",
       "      <td>4</td>\n",
       "      <td>6</td>\n",
       "      <td>29</td>\n",
       "      <td>Bottom_left</td>\n",
       "      <td>314</td>\n",
       "      <td>29</td>\n",
       "    </tr>\n",
       "    <tr>\n",
       "      <th>3</th>\n",
       "      <td>4</td>\n",
       "      <td>6</td>\n",
       "      <td>79</td>\n",
       "      <td>Bottom_left</td>\n",
       "      <td>314</td>\n",
       "      <td>29</td>\n",
       "    </tr>\n",
       "    <tr>\n",
       "      <th>4</th>\n",
       "      <td>4</td>\n",
       "      <td>6</td>\n",
       "      <td>290</td>\n",
       "      <td>Bottom_right</td>\n",
       "      <td>314</td>\n",
       "      <td>29</td>\n",
       "    </tr>\n",
       "  </tbody>\n",
       "</table>\n",
       "</div>"
      ],
      "text/plain": [
       "   user_id  page_id  ad_price   ad_position  max_price  min_price\n",
       "0        4        6       165  Bottom_right        314         29\n",
       "1        4        6        34  Bottom_right        314         29\n",
       "2        4        6        29   Bottom_left        314         29\n",
       "3        4        6        79   Bottom_left        314         29\n",
       "4        4        6       290  Bottom_right        314         29"
      ]
     },
     "execution_count": 34,
     "metadata": {},
     "output_type": "execute_result"
    }
   ],
   "source": [
    "gb = df.groupby(['user_id', 'page_id'], as_index=False).agg({'ad_price':{'max_price':np.max, 'min_price': np.min}})\n",
    "gb.columns = ['user_id', 'page_id', 'max_price', 'min_price']\n",
    "df_feature_eng = pd.merge(df, gb, how='left', on=['user_id', 'page_id'])\n",
    "df_feature_eng.head()"
   ]
  },
  {
   "cell_type": "markdown",
   "metadata": {},
   "source": [
    "Other features:\n",
    "- Number of pages a user visited during a session\n",
    "- ID of the most visited page by a user\n",
    "- Number of user that visited the page \n",
    "- etc."
   ]
  },
  {
   "cell_type": "markdown",
   "metadata": {},
   "source": [
    "## 2. Features from neighborhood analysis\n",
    "\n",
    "If there are no features to use groupby on, then we can **find nearest neighbors instead of grouping operations**.\n",
    "\n",
    "Example: Predicting House pricing\n",
    "\n",
    "**Generated features:**\n",
    "\n",
    "- Number of houses in 500m, 1000m\n",
    "- Average price in 500m, 1000m\n",
    "- Number of supermarkets in 500, 1000\n",
    "- Distance to closest subway station\n",
    "- Mean distance to 10 closest neighbors\n",
    "\n",
    "TODO https://www.coursera.org/learn/competitive-data-science/notebook/9TpmP/knn-features-implementation"
   ]
  }
 ],
 "metadata": {
  "kernelspec": {
   "display_name": "Python 3",
   "language": "python",
   "name": "python3"
  },
  "language_info": {
   "codemirror_mode": {
    "name": "ipython",
    "version": 3
   },
   "file_extension": ".py",
   "mimetype": "text/x-python",
   "name": "python",
   "nbconvert_exporter": "python",
   "pygments_lexer": "ipython3",
   "version": "3.6.5"
  }
 },
 "nbformat": 4,
 "nbformat_minor": 2
}
