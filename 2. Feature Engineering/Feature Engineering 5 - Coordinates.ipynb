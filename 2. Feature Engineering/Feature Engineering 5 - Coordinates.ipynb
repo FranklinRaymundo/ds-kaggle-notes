{
 "cells": [
  {
   "cell_type": "markdown",
   "metadata": {},
   "source": [
    "There are competitions that involve coordinates.\n",
    "\n",
    "For example, when estimating the real state price in kaggle competition like \"Western Australia rental prices\" and \"Sberbank Russian housing market\".\n",
    "\n",
    "I need to look further into this as I don't have much experience when dealing with this type.\n",
    "\n",
    "## FEATURE GENERATION\n",
    "\n",
    "#### a. Distances to important points in the map\n",
    "\n",
    "- Distance to the nearest shop\n",
    "- Distance to the nearest hospital\n",
    "- Distance to the best school in the neighborhood\n",
    "\n",
    "- Divide the map to squares in a grid.\n",
    "    - Then, get the most expensive flat in the squares.\n",
    "    - For every object in the square, add the distance to that flat.\n",
    "- Organize datapoints into clusters. Centers of each cluster are important points.\n",
    "    - Distance to the area with very old buildings.   \n",
    " \n",
    "#### b. Aggregated statistics\n",
    " \n",
    "- Calculate aggregated statistics for objects in an area.\n",
    "    - Number of flats surrounding a point (areas of popularity).\n",
    "    - Mean price"
   ]
  },
  {
   "cell_type": "markdown",
   "metadata": {},
   "source": [
    "#### c. Rotated coordinates\n",
    "\n",
    "When using a **tree-based model**, one can add the coordinates but rotated as new features(rotations like 45, or 22.5 degrees)\n",
    "\n",
    "![](images/coordrotation.png)\n",
    "\n",
    "I still don't understand very well why though."
   ]
  }
 ],
 "metadata": {
  "kernelspec": {
   "display_name": "Python 3",
   "language": "python",
   "name": "python3"
  },
  "language_info": {
   "codemirror_mode": {
    "name": "ipython",
    "version": 3
   },
   "file_extension": ".py",
   "mimetype": "text/x-python",
   "name": "python",
   "nbconvert_exporter": "python",
   "pygments_lexer": "ipython3",
   "version": "3.6.5"
  }
 },
 "nbformat": 4,
 "nbformat_minor": 2
}
