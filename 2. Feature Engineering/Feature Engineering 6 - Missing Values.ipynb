{
 "cells": [
  {
   "cell_type": "markdown",
   "metadata": {},
   "source": [
    "This step goes before doing feature generation.\n",
    "\n",
    "## Types of missing values:\n",
    "- NaN\n",
    "- Empty string \"\"\n",
    "- -1\n",
    "- 999\n",
    "- NA\n",
    "- null\n",
    "- None\n",
    "\n",
    "## How to find if a value is a missing value?\n",
    "\n",
    "![](images/missingvals.png)\n",
    "\n",
    "- -1 will be a missing value in the left, and the mean in the right.\n",
    "- **Outliers** may have been converted or you may convert them to missing values.\n",
    "\n",
    "## How to fix missing values?\n",
    "\n",
    "## For numerical data:\n",
    "- If there are **very few** missing values, remove the records.\n",
    "- If there are **many**, do **\"Value Imputation\"**\n",
    "- Do nothing, but use a model that can deal with them out of the box."
   ]
  },
  {
   "cell_type": "markdown",
   "metadata": {},
   "source": [
    "These are the types of value imputation\n",
    "\n",
    "### a. Value outside the variable range\n",
    "\n",
    "- Replace the null values with a **value outside the variable range** (-1, -999, etc).\n",
    "- Not good for non-tree-based models.\n",
    "\n",
    "### b. Central Value\n",
    "\n",
    "- Replace the null values with some **central value** like the mean or median.\n",
    "- Beneficial for non-tree-based models.\n",
    "- Replace the null values after grouping or doing other operations with other features because something like this may happen.\n",
    "\n",
    "![](images/categ.png)\n",
    "\n",
    "\n",
    "### c. \"Isnull\" feature\n",
    "\n",
    "- Adding this column can solve problems with both types of models.\n",
    "- **One can as well replace NA by a central value besides adding this column**.\n",
    "\n",
    "![](images/isnullfeat.png)"
   ]
  },
  {
   "cell_type": "markdown",
   "metadata": {},
   "source": [
    "### d. Reconstruction\n",
    "\n",
    "#### a. When the rows of the feature are not so independent.\n",
    "\n",
    "We can approximate values in time series by interpolating within nearby points.\n",
    "\n",
    "![](images/featurecurve.png)\n",
    "\n",
    "#### b. When rows are independent.\n",
    "\n",
    "Estimate values using statistical/predictive modeling methods. Imputation methods include filling in values based on \"similar\" or \"neighboring\" records **(K-nearest-neighbors imputation)** and filling in values based on regression models. Using predictive models to fill in missing values adds an extra layer of complexity to an analysis and can significantly increase processing time.\n",
    "\n",
    "- Train data = data w/o missing values\n",
    "- Test data = data with missing values"
   ]
  },
  {
   "cell_type": "markdown",
   "metadata": {},
   "source": [
    "## For categorical data\n",
    "\n",
    "- If there are **very few** missing values, remove the records.\n",
    "- If there are **many**, do similar **\"Value Imputation\"** methods.\n",
    "- Or missing values can be treated as an additional category NA."
   ]
  }
 ],
 "metadata": {
  "kernelspec": {
   "display_name": "Python 3",
   "language": "python",
   "name": "python3"
  },
  "language_info": {
   "codemirror_mode": {
    "name": "ipython",
    "version": 3
   },
   "file_extension": ".py",
   "mimetype": "text/x-python",
   "name": "python",
   "nbconvert_exporter": "python",
   "pygments_lexer": "ipython3",
   "version": "3.6.0"
  }
 },
 "nbformat": 4,
 "nbformat_minor": 2
}
