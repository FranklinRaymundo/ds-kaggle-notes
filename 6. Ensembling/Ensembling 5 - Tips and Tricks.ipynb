{
 "cells": [
  {
   "cell_type": "markdown",
   "metadata": {},
   "source": [
    "## 1st Level tips\n",
    "\n",
    "### Diverse models based on algs\n",
    "\n",
    "- 2-3 gradient boosting trees (lightgb, xgboost,H2O,catboost)\n",
    "- From diff versions or with different parameters like depths\n",
    "- 2-3 NNs (keras, pytorch), with different #s of layers\n",
    "- 1-2 ExtraTrees/RFs (sklearn)\n",
    "- 1-2 LMs as in logistic/ridge regression, linear svm (sklearn)\n",
    "- 1-2 knn models (sklearn)\n",
    "- 1 Factorization machine (libfm)\n",
    "- 1 SVM w/nonlinear kernel if size/memory allows (sklearn)\n",
    "\n",
    "### Diverse models based on input data\n",
    "\n",
    "- Categorical features: Have inputs with One hot, label encoding, target enc\n",
    "- Numerical features: outliers, binning derivatives, percentiles, scaling\n",
    "- Interactions: col1*/+/-col2, groupby, unsupervised dimensionality reduction\n",
    "\n",
    "## 2nd level tips\n",
    "\n",
    "### Make simple or shallow algs\n",
    "- GB trees with small depth (2/3)\n",
    "- Linear models with high reg\n",
    "- Extra trees small\n",
    "- Shallow networks (1 hidden)\n",
    "- knn with BrayCurtis distance\n",
    "- Brute forcing a search for best linear weights based on cv\n",
    "\n",
    "### Feature engineering\n",
    "- Pairwise differences b/w meta features (or model's predictions in stacking)\n",
    "- Row-wise statistics like means, stds\n",
    "- Standard feature selection techniques\n",
    "    \n",
    "### For every 7.5 models in prev level, add 1 in the meta-models (TODO)\n",
    "\n",
    "### Be mindful of target leakage"
   ]
  }
 ],
 "metadata": {
  "kernelspec": {
   "display_name": "Python 3",
   "language": "python",
   "name": "python3"
  },
  "language_info": {
   "codemirror_mode": {
    "name": "ipython",
    "version": 3
   },
   "file_extension": ".py",
   "mimetype": "text/x-python",
   "name": "python",
   "nbconvert_exporter": "python",
   "pygments_lexer": "ipython3",
   "version": "3.6.5"
  }
 },
 "nbformat": 4,
 "nbformat_minor": 2
}
