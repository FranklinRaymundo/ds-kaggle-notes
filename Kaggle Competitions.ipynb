{
 "cells": [
  {
   "cell_type": "markdown",
   "metadata": {},
   "source": [
    "Here are the things I'm consider for competing in Kaggle, and I'm taking it from 'Coursera Competitive Data Science' course. https://www.coursera.org/learn/competitive-data-science/"
   ]
  },
  {
   "cell_type": "markdown",
   "metadata": {},
   "source": [
    "## Libraries\n",
    "\n",
    "- Numpy = It's a linear algebra library. This one will provide the most convenient way to perform matrix multiplication\n",
    "- Pandas = This one is about data reading/processing, not algebra.\n",
    "- SkLearn = This one is about ML algorithms.\n",
    "- Vowpal Wabbit = as sklearn but it is designed to handle really large datasets\n",
    "- XGBoost, LightGBM = better implementations of Gradient Boosting\n",
    "- TensorFlow, Keras, PyTorch = libraries to train a neural networks."
   ]
  },
  {
   "cell_type": "markdown",
   "metadata": {},
   "source": [
    "## Hardware\n",
    "\n",
    "For most competitions (except image-based)\n",
    "- High lvl laptop\n",
    "- 16+ gb ram\n",
    "- 4+ cores\n",
    "\n",
    "Probably the best but excessively expensive setup\n",
    "- Tower PC\n",
    "- 32+ gb ram\n",
    "- 6+ cores"
   ]
  },
  {
   "cell_type": "markdown",
   "metadata": {},
   "source": [
    "## Topics\n",
    "\n",
    "These are pretty much the topics covered in the course.\n",
    "\n",
    "1. Feature Preprocessing (Feature Engineering?)\n",
    "2. Feature extraction from text and images\n",
    "3. Exploratory Data Analysis\n",
    "4. Validation\n",
    "5. **Data Leakages**\n",
    "6. **Metrics optimization**\n",
    "7. **Actual Feature Engineering**\n",
    "8. **Hyperparameter tuning**\n",
    "9. **Ensembling**\n",
    "\n",
    "I will especially read more about the last ones in bold."
   ]
  },
  {
   "cell_type": "markdown",
   "metadata": {},
   "source": [
    "## Solutions to real competitions\n",
    "\n",
    "I hope to be able to easily understand solutions, but for now, there are some solutions in the whole final week of the course, and I will go over them after.\n",
    "\n",
    "- Crowdflower Competition\n",
    "- Springleaf Marketing Response\n",
    "- Microsoft Malware Classification Challenge\n",
    "- Walmart: Trip Type Classification\n",
    "- Acquire Valued Shoppers Challenge"
   ]
  }
 ],
 "metadata": {
  "kernelspec": {
   "display_name": "Python 3",
   "language": "python",
   "name": "python3"
  },
  "language_info": {
   "codemirror_mode": {
    "name": "ipython",
    "version": 3
   },
   "file_extension": ".py",
   "mimetype": "text/x-python",
   "name": "python",
   "nbconvert_exporter": "python",
   "pygments_lexer": "ipython3",
   "version": "3.6.5"
  }
 },
 "nbformat": 4,
 "nbformat_minor": 2
}
